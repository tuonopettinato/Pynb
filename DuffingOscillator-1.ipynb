{
 "cells": [
  {
   "cell_type": "markdown",
   "metadata": {},
   "source": [
    "# Duffing Oscillator - a first example\n",
    "\n",
    "The simpler version of the _Duffing oscillator_ is described by the second-order differential equation\n",
    "$$\n",
    "\\ddot{x} + \\alpha \\dot{x} + \\beta x + \\gamma x^3 = 0 \n",
    "$$\n",
    "which corresponds to the sistem of ordinary non-linear differential equations\n",
    "$$\n",
    "\\begin{cases}\n",
    "{\\mathrm{d}x \\over \\mathrm{d} t}=y\\\\\n",
    "{\\mathrm d y \\over \\mathrm d t} = -( \\alpha y + \\beta x + \\gamma x^3)   \n",
    "\\end{cases}\n",
    "$$\n",
    "We set two of the parameters $ \\beta = -1, \\gamma = 1$, leaving $\\alpha$ free, and proceed to analyse this simple case."
   ]
  },
  {
   "cell_type": "markdown",
   "metadata": {},
   "source": [
    "## Plot of the vector field\n",
    "\n",
    "We can plot the vector field $F(x, y) = (F_x(x, y), F_y(x, y))$ associated to the dynamical system using **matplotlib**"
   ]
  },
  {
   "cell_type": "code",
   "execution_count": 1,
   "metadata": {},
   "outputs": [],
   "source": [
    "# importing modules\n",
    "import numpy as np\n",
    "import matplotlib.pyplot as plt\n",
    "\n"
   ]
  }
 ],
 "metadata": {
  "kernelspec": {
   "display_name": "Python 3",
   "language": "python",
   "name": "python3"
  },
  "language_info": {
   "codemirror_mode": {
    "name": "ipython",
    "version": 3
   },
   "file_extension": ".py",
   "mimetype": "text/x-python",
   "name": "python",
   "nbconvert_exporter": "python",
   "pygments_lexer": "ipython3",
   "version": "3.11.5"
  }
 },
 "nbformat": 4,
 "nbformat_minor": 2
}
